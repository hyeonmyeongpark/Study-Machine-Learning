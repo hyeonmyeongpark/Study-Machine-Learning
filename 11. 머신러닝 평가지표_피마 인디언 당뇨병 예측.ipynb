{
 "cells": [
  {
   "cell_type": "markdown",
   "id": "eb3940cf",
   "metadata": {},
   "source": [
    "# 필수 라이브러리"
   ]
  },
  {
   "cell_type": "code",
   "execution_count": 46,
   "id": "85d89039",
   "metadata": {
    "ExecuteTime": {
     "end_time": "2022-11-10T03:32:14.338411Z",
     "start_time": "2022-11-10T03:32:14.331195Z"
    }
   },
   "outputs": [],
   "source": [
    "import numpy as np\n",
    "import pandas as pd\n",
    "\n",
    "import matplotlib as mpl\n",
    "import matplotlib.pyplot as plt\n",
    "import seaborn as sns\n",
    "\n",
    "import warnings\n",
    "from IPython.display import Image"
   ]
  },
  {
   "cell_type": "code",
   "execution_count": 47,
   "id": "5b624603",
   "metadata": {
    "ExecuteTime": {
     "end_time": "2022-11-10T03:32:17.051763Z",
     "start_time": "2022-11-10T03:32:17.023708Z"
    }
   },
   "outputs": [],
   "source": [
    "%matplotlib inline\n",
    "%config InlineBackend.figure_format = 'retina'\n",
    "\n",
    "mpl.rc('font', family = 'malgun gothic')\n",
    "mpl.rc('axes', unicode_minus=False)\n",
    "\n",
    "sns.set(font=\"malgun gothic\", rc={\"axes.unicode_minus\":False}, style='darkgrid')\n",
    "plt.rc('figure', figsize=(10, 8))\n",
    "\n",
    "warnings.filterwarnings('ignore')"
   ]
  },
  {
   "cell_type": "markdown",
   "id": "0fee103b",
   "metadata": {},
   "source": [
    "# 데이터 로딩과 데이터 탐색"
   ]
  },
  {
   "cell_type": "code",
   "execution_count": 45,
   "id": "1b0fcf5e",
   "metadata": {
    "ExecuteTime": {
     "end_time": "2022-11-10T03:32:11.063518Z",
     "start_time": "2022-11-10T03:32:11.028791Z"
    }
   },
   "outputs": [
    {
     "data": {
      "text/html": [
       "<div>\n",
       "<style scoped>\n",
       "    .dataframe tbody tr th:only-of-type {\n",
       "        vertical-align: middle;\n",
       "    }\n",
       "\n",
       "    .dataframe tbody tr th {\n",
       "        vertical-align: top;\n",
       "    }\n",
       "\n",
       "    .dataframe thead th {\n",
       "        text-align: right;\n",
       "    }\n",
       "</style>\n",
       "<table border=\"1\" class=\"dataframe\">\n",
       "  <thead>\n",
       "    <tr style=\"text-align: right;\">\n",
       "      <th></th>\n",
       "      <th>Pregnancies</th>\n",
       "      <th>Glucose</th>\n",
       "      <th>BloodPressure</th>\n",
       "      <th>SkinThickness</th>\n",
       "      <th>Insulin</th>\n",
       "      <th>BMI</th>\n",
       "      <th>DiabetesPedigreeFunction</th>\n",
       "      <th>Age</th>\n",
       "      <th>Outcome</th>\n",
       "    </tr>\n",
       "  </thead>\n",
       "  <tbody>\n",
       "    <tr>\n",
       "      <th>0</th>\n",
       "      <td>6</td>\n",
       "      <td>148</td>\n",
       "      <td>72</td>\n",
       "      <td>35</td>\n",
       "      <td>0</td>\n",
       "      <td>33.6</td>\n",
       "      <td>0.627</td>\n",
       "      <td>50</td>\n",
       "      <td>1</td>\n",
       "    </tr>\n",
       "    <tr>\n",
       "      <th>1</th>\n",
       "      <td>1</td>\n",
       "      <td>85</td>\n",
       "      <td>66</td>\n",
       "      <td>29</td>\n",
       "      <td>0</td>\n",
       "      <td>26.6</td>\n",
       "      <td>0.351</td>\n",
       "      <td>31</td>\n",
       "      <td>0</td>\n",
       "    </tr>\n",
       "    <tr>\n",
       "      <th>2</th>\n",
       "      <td>8</td>\n",
       "      <td>183</td>\n",
       "      <td>64</td>\n",
       "      <td>0</td>\n",
       "      <td>0</td>\n",
       "      <td>23.3</td>\n",
       "      <td>0.672</td>\n",
       "      <td>32</td>\n",
       "      <td>1</td>\n",
       "    </tr>\n",
       "    <tr>\n",
       "      <th>3</th>\n",
       "      <td>1</td>\n",
       "      <td>89</td>\n",
       "      <td>66</td>\n",
       "      <td>23</td>\n",
       "      <td>94</td>\n",
       "      <td>28.1</td>\n",
       "      <td>0.167</td>\n",
       "      <td>21</td>\n",
       "      <td>0</td>\n",
       "    </tr>\n",
       "    <tr>\n",
       "      <th>4</th>\n",
       "      <td>0</td>\n",
       "      <td>137</td>\n",
       "      <td>40</td>\n",
       "      <td>35</td>\n",
       "      <td>168</td>\n",
       "      <td>43.1</td>\n",
       "      <td>2.288</td>\n",
       "      <td>33</td>\n",
       "      <td>1</td>\n",
       "    </tr>\n",
       "  </tbody>\n",
       "</table>\n",
       "</div>"
      ],
      "text/plain": [
       "   Pregnancies  Glucose  BloodPressure  SkinThickness  Insulin   BMI  \\\n",
       "0            6      148             72             35        0  33.6   \n",
       "1            1       85             66             29        0  26.6   \n",
       "2            8      183             64              0        0  23.3   \n",
       "3            1       89             66             23       94  28.1   \n",
       "4            0      137             40             35      168  43.1   \n",
       "\n",
       "   DiabetesPedigreeFunction  Age  Outcome  \n",
       "0                     0.627   50        1  \n",
       "1                     0.351   31        0  \n",
       "2                     0.672   32        1  \n",
       "3                     0.167   21        0  \n",
       "4                     2.288   33        1  "
      ]
     },
     "execution_count": 45,
     "metadata": {},
     "output_type": "execute_result"
    }
   ],
   "source": [
    "from sklearn.model_selection import train_test_split\n",
    "from sklearn.metrics import accuracy_score, precision_score, recall_score, roc_auc_score\n",
    "from sklearn.metrics import f1_score, confusion_matrix, precision_recall_curve, roc_curve\n",
    "\n",
    "from sklearn.preprocessing import StandardScaler\n",
    "from sklearn.linear_model import LogisticRegression\n",
    "\n",
    "diabetes = pd.read_csv('C:/k_digital/source/data/diabetes.csv')\n",
    "diabetes.head()"
   ]
  },
  {
   "cell_type": "code",
   "execution_count": 7,
   "id": "102c2e69",
   "metadata": {
    "ExecuteTime": {
     "end_time": "2022-11-10T00:27:01.422989Z",
     "start_time": "2022-11-10T00:27:01.400855Z"
    }
   },
   "outputs": [
    {
     "data": {
      "text/plain": [
       "0    500\n",
       "1    268\n",
       "Name: Outcome, dtype: int64"
      ]
     },
     "execution_count": 7,
     "metadata": {},
     "output_type": "execute_result"
    }
   ],
   "source": [
    "diabetes['Outcome'].value_counts()"
   ]
  },
  {
   "cell_type": "code",
   "execution_count": 8,
   "id": "81ca43ee",
   "metadata": {
    "ExecuteTime": {
     "end_time": "2022-11-10T00:27:38.546893Z",
     "start_time": "2022-11-10T00:27:38.520121Z"
    }
   },
   "outputs": [
    {
     "name": "stdout",
     "output_type": "stream",
     "text": [
      "<class 'pandas.core.frame.DataFrame'>\n",
      "RangeIndex: 768 entries, 0 to 767\n",
      "Data columns (total 9 columns):\n",
      " #   Column                    Non-Null Count  Dtype  \n",
      "---  ------                    --------------  -----  \n",
      " 0   Pregnancies               768 non-null    int64  \n",
      " 1   Glucose                   768 non-null    int64  \n",
      " 2   BloodPressure             768 non-null    int64  \n",
      " 3   SkinThickness             768 non-null    int64  \n",
      " 4   Insulin                   768 non-null    int64  \n",
      " 5   BMI                       768 non-null    float64\n",
      " 6   DiabetesPedigreeFunction  768 non-null    float64\n",
      " 7   Age                       768 non-null    int64  \n",
      " 8   Outcome                   768 non-null    int64  \n",
      "dtypes: float64(2), int64(7)\n",
      "memory usage: 54.1 KB\n"
     ]
    }
   ],
   "source": [
    "diabetes.info()"
   ]
  },
  {
   "cell_type": "code",
   "execution_count": 9,
   "id": "3ce8ba5c",
   "metadata": {
    "ExecuteTime": {
     "end_time": "2022-11-10T00:28:31.566702Z",
     "start_time": "2022-11-10T00:28:31.528926Z"
    }
   },
   "outputs": [
    {
     "data": {
      "text/html": [
       "<div>\n",
       "<style scoped>\n",
       "    .dataframe tbody tr th:only-of-type {\n",
       "        vertical-align: middle;\n",
       "    }\n",
       "\n",
       "    .dataframe tbody tr th {\n",
       "        vertical-align: top;\n",
       "    }\n",
       "\n",
       "    .dataframe thead th {\n",
       "        text-align: right;\n",
       "    }\n",
       "</style>\n",
       "<table border=\"1\" class=\"dataframe\">\n",
       "  <thead>\n",
       "    <tr style=\"text-align: right;\">\n",
       "      <th></th>\n",
       "      <th>Pregnancies</th>\n",
       "      <th>Glucose</th>\n",
       "      <th>BloodPressure</th>\n",
       "      <th>SkinThickness</th>\n",
       "      <th>Insulin</th>\n",
       "      <th>BMI</th>\n",
       "      <th>DiabetesPedigreeFunction</th>\n",
       "      <th>Age</th>\n",
       "      <th>Outcome</th>\n",
       "    </tr>\n",
       "  </thead>\n",
       "  <tbody>\n",
       "    <tr>\n",
       "      <th>count</th>\n",
       "      <td>768.000000</td>\n",
       "      <td>768.000000</td>\n",
       "      <td>768.000000</td>\n",
       "      <td>768.000000</td>\n",
       "      <td>768.000000</td>\n",
       "      <td>768.000000</td>\n",
       "      <td>768.000000</td>\n",
       "      <td>768.000000</td>\n",
       "      <td>768.000000</td>\n",
       "    </tr>\n",
       "    <tr>\n",
       "      <th>mean</th>\n",
       "      <td>3.845052</td>\n",
       "      <td>120.894531</td>\n",
       "      <td>69.105469</td>\n",
       "      <td>20.536458</td>\n",
       "      <td>79.799479</td>\n",
       "      <td>31.992578</td>\n",
       "      <td>0.471876</td>\n",
       "      <td>33.240885</td>\n",
       "      <td>0.348958</td>\n",
       "    </tr>\n",
       "    <tr>\n",
       "      <th>std</th>\n",
       "      <td>3.369578</td>\n",
       "      <td>31.972618</td>\n",
       "      <td>19.355807</td>\n",
       "      <td>15.952218</td>\n",
       "      <td>115.244002</td>\n",
       "      <td>7.884160</td>\n",
       "      <td>0.331329</td>\n",
       "      <td>11.760232</td>\n",
       "      <td>0.476951</td>\n",
       "    </tr>\n",
       "    <tr>\n",
       "      <th>min</th>\n",
       "      <td>0.000000</td>\n",
       "      <td>0.000000</td>\n",
       "      <td>0.000000</td>\n",
       "      <td>0.000000</td>\n",
       "      <td>0.000000</td>\n",
       "      <td>0.000000</td>\n",
       "      <td>0.078000</td>\n",
       "      <td>21.000000</td>\n",
       "      <td>0.000000</td>\n",
       "    </tr>\n",
       "    <tr>\n",
       "      <th>25%</th>\n",
       "      <td>1.000000</td>\n",
       "      <td>99.000000</td>\n",
       "      <td>62.000000</td>\n",
       "      <td>0.000000</td>\n",
       "      <td>0.000000</td>\n",
       "      <td>27.300000</td>\n",
       "      <td>0.243750</td>\n",
       "      <td>24.000000</td>\n",
       "      <td>0.000000</td>\n",
       "    </tr>\n",
       "    <tr>\n",
       "      <th>50%</th>\n",
       "      <td>3.000000</td>\n",
       "      <td>117.000000</td>\n",
       "      <td>72.000000</td>\n",
       "      <td>23.000000</td>\n",
       "      <td>30.500000</td>\n",
       "      <td>32.000000</td>\n",
       "      <td>0.372500</td>\n",
       "      <td>29.000000</td>\n",
       "      <td>0.000000</td>\n",
       "    </tr>\n",
       "    <tr>\n",
       "      <th>75%</th>\n",
       "      <td>6.000000</td>\n",
       "      <td>140.250000</td>\n",
       "      <td>80.000000</td>\n",
       "      <td>32.000000</td>\n",
       "      <td>127.250000</td>\n",
       "      <td>36.600000</td>\n",
       "      <td>0.626250</td>\n",
       "      <td>41.000000</td>\n",
       "      <td>1.000000</td>\n",
       "    </tr>\n",
       "    <tr>\n",
       "      <th>max</th>\n",
       "      <td>17.000000</td>\n",
       "      <td>199.000000</td>\n",
       "      <td>122.000000</td>\n",
       "      <td>99.000000</td>\n",
       "      <td>846.000000</td>\n",
       "      <td>67.100000</td>\n",
       "      <td>2.420000</td>\n",
       "      <td>81.000000</td>\n",
       "      <td>1.000000</td>\n",
       "    </tr>\n",
       "  </tbody>\n",
       "</table>\n",
       "</div>"
      ],
      "text/plain": [
       "       Pregnancies     Glucose  BloodPressure  SkinThickness     Insulin  \\\n",
       "count   768.000000  768.000000     768.000000     768.000000  768.000000   \n",
       "mean      3.845052  120.894531      69.105469      20.536458   79.799479   \n",
       "std       3.369578   31.972618      19.355807      15.952218  115.244002   \n",
       "min       0.000000    0.000000       0.000000       0.000000    0.000000   \n",
       "25%       1.000000   99.000000      62.000000       0.000000    0.000000   \n",
       "50%       3.000000  117.000000      72.000000      23.000000   30.500000   \n",
       "75%       6.000000  140.250000      80.000000      32.000000  127.250000   \n",
       "max      17.000000  199.000000     122.000000      99.000000  846.000000   \n",
       "\n",
       "              BMI  DiabetesPedigreeFunction         Age     Outcome  \n",
       "count  768.000000                768.000000  768.000000  768.000000  \n",
       "mean    31.992578                  0.471876   33.240885    0.348958  \n",
       "std      7.884160                  0.331329   11.760232    0.476951  \n",
       "min      0.000000                  0.078000   21.000000    0.000000  \n",
       "25%     27.300000                  0.243750   24.000000    0.000000  \n",
       "50%     32.000000                  0.372500   29.000000    0.000000  \n",
       "75%     36.600000                  0.626250   41.000000    1.000000  \n",
       "max     67.100000                  2.420000   81.000000    1.000000  "
      ]
     },
     "execution_count": 9,
     "metadata": {},
     "output_type": "execute_result"
    }
   ],
   "source": [
    "diabetes.describe()"
   ]
  },
  {
   "cell_type": "code",
   "execution_count": 10,
   "id": "1385887a",
   "metadata": {
    "ExecuteTime": {
     "end_time": "2022-11-10T00:31:01.348249Z",
     "start_time": "2022-11-10T00:31:01.024234Z"
    }
   },
   "outputs": [
    {
     "data": {
      "image/png": "[encoded data removed]",
      "text/plain": [
       "<Figure size 720x576 with 1 Axes>"
      ]
     },
     "metadata": {
      "image/png": {
       "height": 479,
       "width": 609
      }
     },
     "output_type": "display_data"
    }
   ],
   "source": [
    "sns.histplot(data = diabetes, x = 'Glucose', kde=False)\n",
    "plt.show()"
   ]
  },
  {
   "cell_type": "code",
   "execution_count": 12,
   "id": "2e8fb326",
   "metadata": {
    "ExecuteTime": {
     "end_time": "2022-11-10T00:35:27.961871Z",
     "start_time": "2022-11-10T00:35:27.944101Z"
    }
   },
   "outputs": [
    {
     "data": {
      "text/plain": [
       "5"
      ]
     },
     "execution_count": 12,
     "metadata": {},
     "output_type": "execute_result"
    }
   ],
   "source": [
    "diabetes['Glucose'].value_counts()[0]"
   ]
  },
  {
   "cell_type": "code",
   "execution_count": 15,
   "id": "af5fa8a7",
   "metadata": {
    "ExecuteTime": {
     "end_time": "2022-11-10T00:37:55.553679Z",
     "start_time": "2022-11-10T00:37:55.533784Z"
    }
   },
   "outputs": [
    {
     "data": {
      "text/plain": [
       "768"
      ]
     },
     "execution_count": 15,
     "metadata": {},
     "output_type": "execute_result"
    }
   ],
   "source": [
    "diabetes.count()[0]"
   ]
  },
  {
   "cell_type": "code",
   "execution_count": 16,
   "id": "68def2e7",
   "metadata": {
    "ExecuteTime": {
     "end_time": "2022-11-10T00:43:52.351884Z",
     "start_time": "2022-11-10T00:43:52.325872Z"
    }
   },
   "outputs": [
    {
     "name": "stdout",
     "output_type": "stream",
     "text": [
      "Glucose의 0 건수 : 5, 퍼센트 : 0.65%\n",
      "BloodPressure의 0 건수 : 35, 퍼센트 : 4.56%\n",
      "SkinThickness의 0 건수 : 227, 퍼센트 : 29.56%\n",
      "Insulin의 0 건수 : 374, 퍼센트 : 48.70%\n",
      "BMI의 0 건수 : 11, 퍼센트 : 1.43%\n"
     ]
    }
   ],
   "source": [
    "# 0값을 검사할 컬럼명 리스트\n",
    "zero_features = ['Glucose', 'BloodPressure', 'SkinThickness', 'Insulin', 'BMI']\n",
    "\n",
    "# 전체 데이터 건수\n",
    "total_count = diabetes.count()[0]\n",
    "\n",
    "# 각 feature별 0값이 차지하는 비율분석\n",
    "for feature in zero_features:\n",
    "    zero_count = diabetes[feature].value_counts()[0]\n",
    "    zero_rate = zero_count / total_count * 100\n",
    "    print(f'{feature}의 0 건수 : {zero_count}, 퍼센트 : {zero_rate:.2f}%')"
   ]
  },
  {
   "cell_type": "code",
   "execution_count": 18,
   "id": "ab421fe8",
   "metadata": {
    "ExecuteTime": {
     "end_time": "2022-11-10T00:47:56.286062Z",
     "start_time": "2022-11-10T00:47:56.264435Z"
    }
   },
   "outputs": [],
   "source": [
    "# SkinThickness, Insulin은 0값의 비율이 높아 데이터를 삭제하긴 무리가 있어 대체값이 필요해 보인다.\n",
    "mean_zero_features = diabetes[zero_features].mean()\n",
    "diabetes[zero_features] = diabetes[zero_features].replace(0, mean_zero_features)"
   ]
  },
  {
   "cell_type": "code",
   "execution_count": 24,
   "id": "72117d07",
   "metadata": {
    "ExecuteTime": {
     "end_time": "2022-11-10T01:04:50.607797Z",
     "start_time": "2022-11-10T01:04:50.453751Z"
    }
   },
   "outputs": [
    {
     "data": {
      "image/png": "[encoded data removed]",
      "text/plain": [
       "<Figure size 720x360 with 1 Axes>"
      ]
     },
     "metadata": {
      "image/png": {
       "height": 286,
       "width": 572
      }
     },
     "output_type": "display_data"
    }
   ],
   "source": [
    "plt.figure(figsize=(10,5))\n",
    "\n",
    "frequency = diabetes['Outcome'].value_counts()\n",
    "label = [f\"0: {frequency[0]}개\", f\"1: {frequency[1]}개\"]\n",
    "\n",
    "plt.pie(frequency,\n",
    "    startangle = 180,\n",
    "    counterclock = False,\n",
    "    explode = [0.03] * 2,\n",
    "    autopct = '%1.1f%%',\n",
    "    labels = label,\n",
    "    colors = sns.color_palette('pastel', 2),\n",
    "    wedgeprops = dict(width=0.7)\n",
    "  )\n",
    "\n",
    "\n",
    "plt.axis('equal')\n",
    "plt.show()"
   ]
  },
  {
   "cell_type": "markdown",
   "id": "852e9b76",
   "metadata": {},
   "source": [
    "# 로지스틱 회귀 모델 구현"
   ]
  },
  {
   "cell_type": "code",
   "execution_count": 25,
   "id": "574f23cd",
   "metadata": {
    "ExecuteTime": {
     "end_time": "2022-11-10T01:25:47.259694Z",
     "start_time": "2022-11-10T01:25:47.250629Z"
    }
   },
   "outputs": [],
   "source": [
    "X = diabetes.iloc[:, :-1]\n",
    "y = diabetes.Outcome\n",
    "\n",
    "# StandardScaler\n",
    "scaler = StandardScaler()\n",
    "scaler.fit(X)\n",
    "X_scaled = scaler.transform(X)"
   ]
  },
  {
   "cell_type": "markdown",
   "id": "8efa5476",
   "metadata": {},
   "source": [
    "## 학습/검증 데이터 분리\n",
    "\n",
    "- 클래스별 비율에 맞게 분리"
   ]
  },
  {
   "cell_type": "code",
   "execution_count": 26,
   "id": "2bab6e62",
   "metadata": {
    "ExecuteTime": {
     "end_time": "2022-11-10T01:29:44.519927Z",
     "start_time": "2022-11-10T01:29:44.483616Z"
    }
   },
   "outputs": [],
   "source": [
    "X_train, X_test, y_train, y_test = train_test_split(\n",
    "    X_scaled, y, test_size = 0.2, stratify = y, random_state = 156) "
   ]
  },
  {
   "cell_type": "markdown",
   "id": "1bd1ddcc",
   "metadata": {},
   "source": [
    "## Logistic Regression"
   ]
  },
  {
   "cell_type": "code",
   "execution_count": 49,
   "id": "43b12ed6",
   "metadata": {
    "ExecuteTime": {
     "end_time": "2022-11-10T03:33:40.245086Z",
     "start_time": "2022-11-10T03:33:40.237937Z"
    }
   },
   "outputs": [],
   "source": [
    "def  get_clf_eval(y_test, pred=None, pred_proba=None):\n",
    "    confusion = confusion_matrix(y_test, pred)\n",
    "    accuracy = accuracy_score(y_test, pred)\n",
    "    precision = precision_score(y_test, pred)\n",
    "    recall = recall_score(y_test, pred)\n",
    "    f1 = f1_score(y_test, pred)\n",
    "    roc_auc = roc_auc_score(y_test, pred_proba)\n",
    "    \n",
    "    print('오차 행렬')\n",
    "    print(confusion)\n",
    " \n",
    "    print('정확도: {0:.4f}, 정밀도: {1:.4f}, \\\n",
    "    재현율: {2:.4f}, F1: {3:.4f}, AUC:{4:.4f}'.format(accuracy, precision, recall, f1, roc_auc))\n"
   ]
  },
  {
   "cell_type": "code",
   "execution_count": 27,
   "id": "3c301522",
   "metadata": {
    "ExecuteTime": {
     "end_time": "2022-11-10T01:39:25.866323Z",
     "start_time": "2022-11-10T01:39:25.835069Z"
    }
   },
   "outputs": [
    {
     "data": {
      "text/plain": [
       "array([[90, 10],\n",
       "       [21, 33]], dtype=int64)"
      ]
     },
     "execution_count": 27,
     "metadata": {},
     "output_type": "execute_result"
    }
   ],
   "source": [
    "# 모델 구현\n",
    "lr = LogisticRegression()\n",
    "# 학습\n",
    "lr.fit(X_train, y_train)\n",
    "#예측\n",
    "pred = lr.predict(X_test)\n",
    "pred_proba_po = lr.predict_proba(X_test)[:, 1].reshape(-1, 1)\n",
    "\n",
    "cm = confusion_matrix(y_test, pred)\n",
    "cm"
   ]
  },
  {
   "cell_type": "code",
   "execution_count": 29,
   "id": "242fa359",
   "metadata": {
    "ExecuteTime": {
     "end_time": "2022-11-10T01:41:15.067137Z",
     "start_time": "2022-11-10T01:41:15.050131Z"
    }
   },
   "outputs": [
    {
     "name": "stdout",
     "output_type": "stream",
     "text": [
      "오차 행렬\n",
      "[[90 10]\n",
      " [21 33]]\n",
      "정확도: 0.7987, 정밀도: 0.7674,     재현율: 0.6111, F1: 0.6804, AUC:0.8433\n"
     ]
    }
   ],
   "source": [
    "get_clf_eval(y_test, pred, pred_proba_po)"
   ]
  },
  {
   "cell_type": "markdown",
   "id": "fbde5470",
   "metadata": {},
   "source": [
    "### 혼돈 행렬(Confision Matrix, 오차 행렬)\n",
    "\n",
    "- TN : Negative값 0으로 예측했고, 실제값도 Negative 0인 경우의 수\n",
    "- FP : Positvie값 1로 예측했고, 실제값은 Negatrive값 0으로 나온 경우의 수\n",
    "- FN : Negative값 0으로 예측했고, 실제값은 Positive값 1로 나온 경우의 수\n",
    "- TP : Positive값 1로 예측했고, 실제값도 Positive값 1로 나온 경우의 수\n",
    "<br><br>\n",
    "1. 정확도 : 전체 데이터개수 대비 정답을 맞춘 데이터의 개수\n",
    "  - Accuracy = TN + TP/ TN + FP + FN + TP\n",
    "<br>  \n",
    "2. 정밀도와 민감도 : 비슷하지만 조금 다른 지표이며 불균이한 데이터셋을 다룰 때 유용한 지표가 된다.\n",
    "  - 불균일한 데이터셋이란 데이터의 1과 0의 비율이 7:3 또는 3:7 이상 차이가 나는 상태를 의미한다.\n",
    "  - 정밀도(precision) : 모델이 1이라고 예측했을 때 얼마나 잘 맞는지의 비율 TP / FP + TP\n",
    "  - 민감도 or 재현율(recall) : 실제 1인값을 모델이 얼마나 1로 잘 예측했는지에 대한 비율 TP / TP + FN\n",
    "<br>\n",
    "3. F1 score : 정밀도와 민감도를 통합한 지표로 정밀도와 민감도의 조화평균 값\n",
    "  - 우리가 만든 모델이 얼마나 성능이 좋은지를 확인할 때 사용\n",
    "  - 한 개의 지표(정밀도와 재현율 중)를 정리할 필요가 있을 때 적합하다.\n",
    "  - 2 * (precision * recall) / (precision + recall)\n",
    "<br>\n",
    "<br> \n",
    "- 이진분류 문제중 암에 걸렸는지 찾는 문제에서 진단이 암일 경우는 1, 암이 아닐경우는 0을 의미한다.\n",
    "- 생존여부를 판단하는 문제에서 생존의 경우 1, 아닐 경우가 0\n",
    "- 우리가 알아내려를 값이 1이 된다."
   ]
  },
  {
   "cell_type": "markdown",
   "id": "64cd8d96",
   "metadata": {},
   "source": [
    "## 정밀도/재현율 시각화"
   ]
  },
  {
   "cell_type": "code",
   "execution_count": 36,
   "id": "515b90bd",
   "metadata": {
    "ExecuteTime": {
     "end_time": "2022-11-10T02:01:57.489837Z",
     "start_time": "2022-11-10T02:01:57.471072Z"
    }
   },
   "outputs": [],
   "source": [
    "def precision_recall_curve_plot(y_test, pred_proba_c1):\n",
    "    precisions, recalls, thresholds = precision_recall_curve(y_test, pred_proba_c1)\n",
    "    \n",
    "    plt.figure(figsize = (8, 6))\n",
    "    threshold_boundary = thresholds.shape[0]\n",
    "    plt.plot(thresholds, precisions[0:threshold_boundary], linestyle = '--', label = 'precision')\n",
    "    plt.plot(thresholds, recalls[0:threshold_boundary], label = 'recall')\n",
    "    \n",
    "    start, end = plt.xlim()\n",
    "    plt.xticks(np.round(np.arange(start, end, 0.1), 2))\n",
    "    \n",
    "    plt.xlabel('Threshold value'); plt.ylabel('Precision and Recall value')\n",
    "    plt.legend(); plt.grid()\n",
    "    plt.show()"
   ]
  },
  {
   "cell_type": "code",
   "execution_count": 37,
   "id": "f96433c5",
   "metadata": {
    "ExecuteTime": {
     "end_time": "2022-11-10T02:02:05.779386Z",
     "start_time": "2022-11-10T02:02:05.556575Z"
    }
   },
   "outputs": [
    {
     "data": {
      "image/png": "[encoded data removed]",
      "text/plain": [
       "<Figure size 576x432 with 1 Axes>"
      ]
     },
     "metadata": {
      "image/png": {
       "height": 377,
       "width": 501
      }
     },
     "output_type": "display_data"
    }
   ],
   "source": [
    "# 정밀도/재현율 시각화\n",
    "precision_recall_curve_plot(y_test, pred_proba_po)"
   ]
  },
  {
   "cell_type": "code",
   "execution_count": 42,
   "id": "2bdbb853",
   "metadata": {
    "ExecuteTime": {
     "end_time": "2022-11-10T03:19:05.302937Z",
     "start_time": "2022-11-10T03:19:05.291045Z"
    }
   },
   "outputs": [],
   "source": [
    "from sklearn.preprocessing import Binarizer\n",
    "\n",
    "def get_clf_eval_thres(y_test, pred_po, threshold, f1_show=False, auc_show=False):\n",
    "    eval_df = pd.DataFrame()\n",
    "    \n",
    "    for thres in threshold:\n",
    "        # threshold에 따른 예측 분류 값\n",
    "        binarizer = Binarizer(threshold = thres)\n",
    "        binarizer.fit(pred_po)\n",
    "        thres_pred = binarizer.transform(pred_po)\n",
    "        \n",
    "        # 평가지표  \n",
    "        accuracy = accuracy_score(y_test, thres_pred)\n",
    "        precision = precision_score(y_test, thres_pred)\n",
    "        recall = recall_score(y_test, thres_pred)\n",
    "        f1 = f1_score(y_test, thres_pred)\n",
    "        auc = roc_auc_score(y_test, pred_po)\n",
    "        \n",
    "        # 데이터 프레임 형태\n",
    "        eval_lst = np.array([accuracy, precision, recall, f1, auc]).reshape(-1,1)\n",
    "        temp = pd.DataFrame(eval_lst, columns=[thres], \n",
    "                            index = [\"정확도\", \"정밀도\", \"재현율\", \"F1스코어\", \"AUC\"])\n",
    "        eval_df = pd.concat([eval_df,temp], axis=1)\n",
    "        \n",
    "    eval_df.columns.names = [\"임계값\"]\n",
    "    \n",
    "    if f1_show == False:\n",
    "        eval_df.drop(\"F1스코어\", axis=0, inplace=True)\n",
    "        \n",
    "    if auc_show == False:\n",
    "        eval_df.drop(\"AUC\", axis=0, inplace=True)\n",
    "        \n",
    "    return round(eval_df, 4)"
   ]
  },
  {
   "cell_type": "code",
   "execution_count": 43,
   "id": "f4a82ae6",
   "metadata": {
    "ExecuteTime": {
     "end_time": "2022-11-10T03:19:41.530444Z",
     "start_time": "2022-11-10T03:19:41.457210Z"
    }
   },
   "outputs": [
    {
     "data": {
      "text/html": [
       "<div>\n",
       "<style scoped>\n",
       "    .dataframe tbody tr th:only-of-type {\n",
       "        vertical-align: middle;\n",
       "    }\n",
       "\n",
       "    .dataframe tbody tr th {\n",
       "        vertical-align: top;\n",
       "    }\n",
       "\n",
       "    .dataframe thead th {\n",
       "        text-align: right;\n",
       "    }\n",
       "</style>\n",
       "<table border=\"1\" class=\"dataframe\">\n",
       "  <thead>\n",
       "    <tr style=\"text-align: right;\">\n",
       "      <th>임계값</th>\n",
       "      <th>0.30</th>\n",
       "      <th>0.33</th>\n",
       "      <th>0.36</th>\n",
       "      <th>0.39</th>\n",
       "      <th>0.42</th>\n",
       "      <th>0.45</th>\n",
       "      <th>0.48</th>\n",
       "      <th>0.50</th>\n",
       "    </tr>\n",
       "  </thead>\n",
       "  <tbody>\n",
       "    <tr>\n",
       "      <th>정확도</th>\n",
       "      <td>0.7143</td>\n",
       "      <td>0.7403</td>\n",
       "      <td>0.7468</td>\n",
       "      <td>0.7532</td>\n",
       "      <td>0.7792</td>\n",
       "      <td>0.7857</td>\n",
       "      <td>0.7987</td>\n",
       "      <td>0.7987</td>\n",
       "    </tr>\n",
       "    <tr>\n",
       "      <th>정밀도</th>\n",
       "      <td>0.5658</td>\n",
       "      <td>0.6000</td>\n",
       "      <td>0.6190</td>\n",
       "      <td>0.6333</td>\n",
       "      <td>0.6923</td>\n",
       "      <td>0.7059</td>\n",
       "      <td>0.7447</td>\n",
       "      <td>0.7674</td>\n",
       "    </tr>\n",
       "    <tr>\n",
       "      <th>재현율</th>\n",
       "      <td>0.7963</td>\n",
       "      <td>0.7778</td>\n",
       "      <td>0.7222</td>\n",
       "      <td>0.7037</td>\n",
       "      <td>0.6667</td>\n",
       "      <td>0.6667</td>\n",
       "      <td>0.6481</td>\n",
       "      <td>0.6111</td>\n",
       "    </tr>\n",
       "    <tr>\n",
       "      <th>F1스코어</th>\n",
       "      <td>0.6615</td>\n",
       "      <td>0.6774</td>\n",
       "      <td>0.6667</td>\n",
       "      <td>0.6667</td>\n",
       "      <td>0.6792</td>\n",
       "      <td>0.6857</td>\n",
       "      <td>0.6931</td>\n",
       "      <td>0.6804</td>\n",
       "    </tr>\n",
       "    <tr>\n",
       "      <th>AUC</th>\n",
       "      <td>0.8433</td>\n",
       "      <td>0.8433</td>\n",
       "      <td>0.8433</td>\n",
       "      <td>0.8433</td>\n",
       "      <td>0.8433</td>\n",
       "      <td>0.8433</td>\n",
       "      <td>0.8433</td>\n",
       "      <td>0.8433</td>\n",
       "    </tr>\n",
       "  </tbody>\n",
       "</table>\n",
       "</div>"
      ],
      "text/plain": [
       "임계값      0.30    0.33    0.36    0.39    0.42    0.45    0.48    0.50\n",
       "정확도    0.7143  0.7403  0.7468  0.7532  0.7792  0.7857  0.7987  0.7987\n",
       "정밀도    0.5658  0.6000  0.6190  0.6333  0.6923  0.7059  0.7447  0.7674\n",
       "재현율    0.7963  0.7778  0.7222  0.7037  0.6667  0.6667  0.6481  0.6111\n",
       "F1스코어  0.6615  0.6774  0.6667  0.6667  0.6792  0.6857  0.6931  0.6804\n",
       "AUC    0.8433  0.8433  0.8433  0.8433  0.8433  0.8433  0.8433  0.8433"
      ]
     },
     "execution_count": 43,
     "metadata": {},
     "output_type": "execute_result"
    }
   ],
   "source": [
    "# threshold 리스트\n",
    "thres_lst = [0.3, 0.33, 0.36, 0.39, 0.42, 0.45, 0.48, 0.5]\n",
    "get_clf_eval_thres(y_test, pred_proba_po, thres_lst, f1_show=True, auc_show=True)"
   ]
  },
  {
   "cell_type": "code",
   "execution_count": 50,
   "id": "24abfda5",
   "metadata": {
    "ExecuteTime": {
     "end_time": "2022-11-10T03:33:46.716911Z",
     "start_time": "2022-11-10T03:33:46.696949Z"
    }
   },
   "outputs": [
    {
     "name": "stdout",
     "output_type": "stream",
     "text": [
      "오차 행렬\n",
      "[[88 12]\n",
      " [19 35]]\n",
      "정확도: 0.7987, 정밀도: 0.7447,     재현율: 0.6481, F1: 0.6931, AUC:0.8433\n"
     ]
    }
   ],
   "source": [
    "binarizer = Binarizer(threshold = 0.48)\n",
    "pred048 = binarizer.fit_transform(pred_proba_po)\n",
    "\n",
    "get_clf_eval(y_test, pred048, pred_proba_po)"
   ]
  },
  {
   "cell_type": "code",
   "execution_count": null,
   "id": "bbf07042",
   "metadata": {},
   "outputs": [],
   "source": []
  }
 ],
 "metadata": {
  "hide_input": false,
  "kernelspec": {
   "display_name": "Python 3 (ipykernel)",
   "language": "python",
   "name": "python3"
  },
  "language_info": {
   "codemirror_mode": {
    "name": "ipython",
    "version": 3
   },
   "file_extension": ".py",
   "mimetype": "text/x-python",
   "name": "python",
   "nbconvert_exporter": "python",
   "pygments_lexer": "ipython3",
   "version": "3.9.7"
  },
  "toc": {
   "base_numbering": 1,
   "nav_menu": {},
   "number_sections": true,
   "sideBar": true,
   "skip_h1_title": false,
   "title_cell": "Table of Contents",
   "title_sidebar": "Contents",
   "toc_cell": false,
   "toc_position": {},
   "toc_section_display": true,
   "toc_window_display": false
  },
  "varInspector": {
   "cols": {
    "lenName": 16,
    "lenType": 16,
    "lenVar": 40
   },
   "kernels_config": {
    "python": {
     "delete_cmd_postfix": "",
     "delete_cmd_prefix": "del ",
     "library": "var_list.py",
     "varRefreshCmd": "print(var_dic_list())"
    },
    "r": {
     "delete_cmd_postfix": ") ",
     "delete_cmd_prefix": "rm(",
     "library": "var_list.r",
     "varRefreshCmd": "cat(var_dic_list()) "
    }
   },
   "types_to_exclude": [
    "module",
    "function",
    "builtin_function_or_method",
    "instance",
    "_Feature"
   ],
   "window_display": false
  }
 },
 "nbformat": 4,
 "nbformat_minor": 5
}
