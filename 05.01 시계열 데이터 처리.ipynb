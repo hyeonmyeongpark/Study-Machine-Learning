{
 "cells": [
  {
   "cell_type": "markdown",
   "id": "d6170b97",
   "metadata": {},
   "source": [
    "# DatetimeIndex\n",
    "- pd.to_datetime() : 문자열을 날짜/시간의 자료형인 datetime 자료형으로 바꿔주는 함수\n",
    "- pd.date_range() : 시작일과 종료일 또는 시작일과 기간을 입력하면 범위내의 인덱스를 자동으로 생성\n",
    "- 시계열 자료 : 인덱스에 날짜나 시간이 오는 데이터\n",
    "- 판다스에서 시계열 자료를 생성하려면 인덱스를 DatetimeIndex 자료형으로 만들어야 한다."
   ]
  },
  {
   "cell_type": "code",
   "execution_count": 3,
   "id": "2996804d",
   "metadata": {
    "ExecuteTime": {
     "end_time": "2022-10-27T03:29:34.307077Z",
     "start_time": "2022-10-27T03:29:33.362125Z"
    }
   },
   "outputs": [],
   "source": [
    "import numpy as np\n",
    "import pandas as pd"
   ]
  },
  {
   "cell_type": "code",
   "execution_count": 5,
   "id": "b5020eca",
   "metadata": {
    "ExecuteTime": {
     "end_time": "2022-10-27T03:30:49.709827Z",
     "start_time": "2022-10-27T03:30:49.689793Z"
    }
   },
   "outputs": [
    {
     "name": "stdout",
     "output_type": "stream",
     "text": [
      "<class 'list'>\n"
     ]
    }
   ],
   "source": [
    "date_str = ['2018, 1, 1', '2018, 1, 4', '2018, 1, 5', '2018, 1, 6']\n",
    "print(type(date_str))"
   ]
  },
  {
   "cell_type": "code",
   "execution_count": 6,
   "id": "bebe71a3",
   "metadata": {
    "ExecuteTime": {
     "end_time": "2022-10-27T03:30:52.820906Z",
     "start_time": "2022-10-27T03:30:52.798256Z"
    }
   },
   "outputs": [
    {
     "data": {
      "text/plain": [
       "DatetimeIndex(['2018-01-01', '2018-01-04', '2018-01-05', '2018-01-06'], dtype='datetime64[ns]', freq=None)"
      ]
     },
     "execution_count": 6,
     "metadata": {},
     "output_type": "execute_result"
    }
   ],
   "source": [
    "idx = pd.to_datetime(date_str)\n",
    "idx"
   ]
  },
  {
   "cell_type": "code",
   "execution_count": 7,
   "id": "2882082d",
   "metadata": {
    "ExecuteTime": {
     "end_time": "2022-10-27T03:31:34.319081Z",
     "start_time": "2022-10-27T03:31:34.286705Z"
    }
   },
   "outputs": [
    {
     "data": {
      "text/plain": [
       "2018-01-01    0.325590\n",
       "2018-01-04    1.690432\n",
       "2018-01-05    0.675130\n",
       "2018-01-06   -1.369393\n",
       "dtype: float64"
      ]
     },
     "execution_count": 7,
     "metadata": {},
     "output_type": "execute_result"
    }
   ],
   "source": [
    "# Series\n",
    "s = pd.Series(np.random.randn(4), index=idx)\n",
    "s"
   ]
  },
  {
   "cell_type": "code",
   "execution_count": 8,
   "id": "6a8ba1a9",
   "metadata": {
    "ExecuteTime": {
     "end_time": "2022-10-27T03:33:04.230871Z",
     "start_time": "2022-10-27T03:33:04.196299Z"
    }
   },
   "outputs": [
    {
     "data": {
      "text/plain": [
       "DatetimeIndex(['2022-04-02', '2022-04-03', '2022-04-04', '2022-04-05',\n",
       "               '2022-04-06', '2022-04-07', '2022-04-08', '2022-04-09',\n",
       "               '2022-04-10', '2022-04-11', '2022-04-12', '2022-04-13',\n",
       "               '2022-04-14', '2022-04-15', '2022-04-16', '2022-04-17',\n",
       "               '2022-04-18', '2022-04-19', '2022-04-20', '2022-04-21',\n",
       "               '2022-04-22', '2022-04-23', '2022-04-24', '2022-04-25',\n",
       "               '2022-04-26', '2022-04-27', '2022-04-28', '2022-04-29',\n",
       "               '2022-04-30'],\n",
       "              dtype='datetime64[ns]', freq='D')"
      ]
     },
     "execution_count": 8,
     "metadata": {},
     "output_type": "execute_result"
    }
   ],
   "source": [
    "pd.date_range('2022-4-2', '2022-4-30')"
   ]
  },
  {
   "cell_type": "code",
   "execution_count": 9,
   "id": "b7c07e6f",
   "metadata": {
    "ExecuteTime": {
     "end_time": "2022-10-27T03:34:16.999087Z",
     "start_time": "2022-10-27T03:34:16.977664Z"
    }
   },
   "outputs": [
    {
     "data": {
      "text/plain": [
       "DatetimeIndex(['2022-10-01', '2022-10-02', '2022-10-03', '2022-10-04',\n",
       "               '2022-10-05', '2022-10-06', '2022-10-07', '2022-10-08',\n",
       "               '2022-10-09', '2022-10-10', '2022-10-11', '2022-10-12',\n",
       "               '2022-10-13', '2022-10-14', '2022-10-15', '2022-10-16',\n",
       "               '2022-10-17', '2022-10-18', '2022-10-19', '2022-10-20',\n",
       "               '2022-10-21', '2022-10-22', '2022-10-23', '2022-10-24',\n",
       "               '2022-10-25', '2022-10-26', '2022-10-27', '2022-10-28',\n",
       "               '2022-10-29', '2022-10-30'],\n",
       "              dtype='datetime64[ns]', freq='D')"
      ]
     },
     "execution_count": 9,
     "metadata": {},
     "output_type": "execute_result"
    }
   ],
   "source": [
    "pd.date_range(start='2022-10-1', periods = 30)"
   ]
  },
  {
   "cell_type": "markdown",
   "id": "c3b023c7",
   "metadata": {},
   "source": [
    "#### freq 매개변수로 특정한 날짜만 생성되도록 설정할 수 있다.\n",
    "- s : second, 초\n",
    "- T : minute, 분\n",
    "- H : hour, 시간\n",
    "- D : day, 일\n",
    "- B : 주말이 아닌 평일\n",
    "- W : 주(일요일)\n",
    "- W-MON : 주(월요일)\n",
    "- M : 각 달의 마지막 날\n",
    "- MS : 각 달의 첫날\n",
    "- https://pandas.pydata.org/pandas-docs/stable/user_guide/timeseries.html#dateoffset-objects"
   ]
  },
  {
   "cell_type": "code",
   "execution_count": 10,
   "id": "d44e84c6",
   "metadata": {
    "ExecuteTime": {
     "end_time": "2022-10-27T05:05:18.022694Z",
     "start_time": "2022-10-27T05:05:18.010655Z"
    }
   },
   "outputs": [
    {
     "data": {
      "text/plain": [
       "DatetimeIndex(['2022-10-01', '2022-10-02', '2022-10-03', '2022-10-04',\n",
       "               '2022-10-05', '2022-10-06', '2022-10-07', '2022-10-08',\n",
       "               '2022-10-09', '2022-10-10', '2022-10-11', '2022-10-12',\n",
       "               '2022-10-13', '2022-10-14', '2022-10-15', '2022-10-16',\n",
       "               '2022-10-17', '2022-10-18', '2022-10-19', '2022-10-20',\n",
       "               '2022-10-21', '2022-10-22', '2022-10-23', '2022-10-24',\n",
       "               '2022-10-25', '2022-10-26', '2022-10-27', '2022-10-28',\n",
       "               '2022-10-29', '2022-10-30', '2022-10-31'],\n",
       "              dtype='datetime64[ns]', freq='D')"
      ]
     },
     "execution_count": 10,
     "metadata": {},
     "output_type": "execute_result"
    }
   ],
   "source": [
    "pd.date_range('2022-10-1', '2022-10-31', freq='D')"
   ]
  },
  {
   "cell_type": "code",
   "execution_count": 11,
   "id": "42db0d1c",
   "metadata": {
    "ExecuteTime": {
     "end_time": "2022-10-27T05:05:58.679772Z",
     "start_time": "2022-10-27T05:05:58.663239Z"
    }
   },
   "outputs": [
    {
     "data": {
      "text/plain": [
       "DatetimeIndex(['2022-10-02', '2022-10-09', '2022-10-16', '2022-10-23',\n",
       "               '2022-10-30', '2022-11-06', '2022-11-13', '2022-11-20',\n",
       "               '2022-11-27', '2022-12-04', '2022-12-11', '2022-12-18',\n",
       "               '2022-12-25'],\n",
       "              dtype='datetime64[ns]', freq='W-SUN')"
      ]
     },
     "execution_count": 11,
     "metadata": {},
     "output_type": "execute_result"
    }
   ],
   "source": [
    "pd.date_range('2022-10-1', '2022-12-31', freq='W')"
   ]
  },
  {
   "cell_type": "code",
   "execution_count": 12,
   "id": "8be685da",
   "metadata": {
    "ExecuteTime": {
     "end_time": "2022-10-27T05:06:24.351826Z",
     "start_time": "2022-10-27T05:06:24.333879Z"
    }
   },
   "outputs": [
    {
     "data": {
      "text/plain": [
       "DatetimeIndex(['2022-10-03', '2022-10-10', '2022-10-17', '2022-10-24',\n",
       "               '2022-10-31', '2022-11-07', '2022-11-14', '2022-11-21',\n",
       "               '2022-11-28', '2022-12-05', '2022-12-12', '2022-12-19',\n",
       "               '2022-12-26'],\n",
       "              dtype='datetime64[ns]', freq='W-MON')"
      ]
     },
     "execution_count": 12,
     "metadata": {},
     "output_type": "execute_result"
    }
   ],
   "source": [
    "pd.date_range('2022-10-1', '2022-12-31', freq='W-MON')"
   ]
  },
  {
   "cell_type": "markdown",
   "id": "c2a5c634",
   "metadata": {},
   "source": [
    "### shift"
   ]
  },
  {
   "cell_type": "code",
   "execution_count": 13,
   "id": "13338226",
   "metadata": {
    "ExecuteTime": {
     "end_time": "2022-10-27T05:09:24.704085Z",
     "start_time": "2022-10-27T05:09:24.677137Z"
    }
   },
   "outputs": [
    {
     "data": {
      "text/plain": [
       "2018-01-31   -1.759849\n",
       "2018-02-28    0.819771\n",
       "2018-03-31    0.598281\n",
       "2018-04-30   -0.369091\n",
       "Freq: M, dtype: float64"
      ]
     },
     "execution_count": 13,
     "metadata": {},
     "output_type": "execute_result"
    }
   ],
   "source": [
    "ts = pd.Series(np.random.randn(4), index = pd.date_range('2018-1-1', periods=4, freq='M'))\n",
    "ts"
   ]
  },
  {
   "cell_type": "code",
   "execution_count": 14,
   "id": "733ba8e0",
   "metadata": {
    "ExecuteTime": {
     "end_time": "2022-10-27T05:10:23.034233Z",
     "start_time": "2022-10-27T05:10:23.014667Z"
    }
   },
   "outputs": [
    {
     "data": {
      "text/plain": [
       "2018-01-31         NaN\n",
       "2018-02-28   -1.759849\n",
       "2018-03-31    0.819771\n",
       "2018-04-30    0.598281\n",
       "Freq: M, dtype: float64"
      ]
     },
     "execution_count": 14,
     "metadata": {},
     "output_type": "execute_result"
    }
   ],
   "source": [
    "ts.shift(1)"
   ]
  },
  {
   "cell_type": "code",
   "execution_count": 15,
   "id": "1dbefa78",
   "metadata": {
    "ExecuteTime": {
     "end_time": "2022-10-27T05:10:41.714742Z",
     "start_time": "2022-10-27T05:10:41.694132Z"
    }
   },
   "outputs": [
    {
     "data": {
      "text/plain": [
       "2018-01-31    0.819771\n",
       "2018-02-28    0.598281\n",
       "2018-03-31   -0.369091\n",
       "2018-04-30         NaN\n",
       "Freq: M, dtype: float64"
      ]
     },
     "execution_count": 15,
     "metadata": {},
     "output_type": "execute_result"
    }
   ],
   "source": [
    "ts.shift(-1)"
   ]
  },
  {
   "cell_type": "code",
   "execution_count": 16,
   "id": "c7178b46",
   "metadata": {
    "ExecuteTime": {
     "end_time": "2022-10-27T05:11:41.278958Z",
     "start_time": "2022-10-27T05:11:41.263254Z"
    }
   },
   "outputs": [
    {
     "data": {
      "text/plain": [
       "2018-02-28   -1.759849\n",
       "2018-03-31    0.819771\n",
       "2018-04-30    0.598281\n",
       "2018-05-31   -0.369091\n",
       "Freq: M, dtype: float64"
      ]
     },
     "execution_count": 16,
     "metadata": {},
     "output_type": "execute_result"
    }
   ],
   "source": [
    "ts.shift(1, freq='M')"
   ]
  },
  {
   "cell_type": "code",
   "execution_count": 17,
   "id": "6a8fd604",
   "metadata": {
    "ExecuteTime": {
     "end_time": "2022-10-27T05:12:04.283879Z",
     "start_time": "2022-10-27T05:12:04.263038Z"
    }
   },
   "outputs": [
    {
     "data": {
      "text/plain": [
       "2018-02-04   -1.759849\n",
       "2018-03-04    0.819771\n",
       "2018-04-01    0.598281\n",
       "2018-05-06   -0.369091\n",
       "dtype: float64"
      ]
     },
     "execution_count": 17,
     "metadata": {},
     "output_type": "execute_result"
    }
   ],
   "source": [
    "ts.shift(1, freq='W')"
   ]
  },
  {
   "cell_type": "markdown",
   "id": "98d6282c",
   "metadata": {},
   "source": [
    "### resample : 날짜나 시간 간격을 재조정하는 기능\n",
    "- up-sample(업 샘플링) : 데이터 양이 증가\n",
    "- down-sample(다운 샘플링) : 데이터 양이 감소"
   ]
  },
  {
   "cell_type": "code",
   "execution_count": 18,
   "id": "f0de636d",
   "metadata": {
    "ExecuteTime": {
     "end_time": "2022-10-27T05:16:07.405199Z",
     "start_time": "2022-10-27T05:16:07.390244Z"
    }
   },
   "outputs": [
    {
     "data": {
      "text/plain": [
       "2018-01-01    0.953981\n",
       "2018-01-02    0.581156\n",
       "2018-01-03    0.646386\n",
       "2018-01-04   -2.117875\n",
       "2018-01-05    0.815256\n",
       "2018-01-06    0.473112\n",
       "2018-01-07    0.827769\n",
       "2018-01-08    1.513132\n",
       "2018-01-09    2.488432\n",
       "2018-01-10   -1.058599\n",
       "2018-01-11   -0.973133\n",
       "2018-01-12   -0.857677\n",
       "2018-01-13    2.260909\n",
       "2018-01-14    0.348334\n",
       "2018-01-15    0.736485\n",
       "2018-01-16   -2.232198\n",
       "2018-01-17    0.593114\n",
       "2018-01-18    0.355401\n",
       "2018-01-19    0.189360\n",
       "2018-01-20   -1.423074\n",
       "Freq: D, dtype: float64"
      ]
     },
     "execution_count": 18,
     "metadata": {},
     "output_type": "execute_result"
    }
   ],
   "source": [
    "ts = pd.Series(np.random.randn(100), index = pd.date_range('2018-1-1', \n",
    "                                                           periods=100, freq='D'))\n",
    "ts.head(20)"
   ]
  },
  {
   "cell_type": "code",
   "execution_count": 19,
   "id": "978afda9",
   "metadata": {
    "ExecuteTime": {
     "end_time": "2022-10-27T05:18:59.101688Z",
     "start_time": "2022-10-27T05:18:59.076180Z"
    }
   },
   "outputs": [
    {
     "data": {
      "text/plain": [
       "2018-01-07    0.311398\n",
       "2018-01-14    0.531628\n",
       "2018-01-21   -0.178224\n",
       "2018-01-28   -0.435360\n",
       "2018-02-04    0.395449\n",
       "2018-02-11    0.119950\n",
       "2018-02-18    0.373968\n",
       "2018-02-25   -0.307031\n",
       "2018-03-04    0.351737\n",
       "2018-03-11   -0.001912\n",
       "2018-03-18   -0.223305\n",
       "2018-03-25    0.242510\n",
       "2018-04-01   -0.241597\n",
       "2018-04-08   -0.244453\n",
       "2018-04-15    0.251328\n",
       "Freq: W-SUN, dtype: float64"
      ]
     },
     "execution_count": 19,
     "metadata": {},
     "output_type": "execute_result"
    }
   ],
   "source": [
    "# 다운 샘플링의 경우에는 원래의 데이터가 그룹화\n",
    "ts.resample('W').mean()"
   ]
  },
  {
   "cell_type": "code",
   "execution_count": 20,
   "id": "80fd38f3",
   "metadata": {
    "ExecuteTime": {
     "end_time": "2022-10-27T05:20:45.399593Z",
     "start_time": "2022-10-27T05:20:45.381040Z"
    }
   },
   "outputs": [
    {
     "data": {
      "text/plain": [
       "2018-01-31    0.953981\n",
       "2018-02-28    0.675145\n",
       "2018-03-31    0.155678\n",
       "2018-04-30   -0.166414\n",
       "Freq: M, dtype: float64"
      ]
     },
     "execution_count": 20,
     "metadata": {},
     "output_type": "execute_result"
    }
   ],
   "source": [
    "ts.resample('M').first()"
   ]
  },
  {
   "cell_type": "code",
   "execution_count": null,
   "id": "3d0d6961",
   "metadata": {},
   "outputs": [],
   "source": []
  }
 ],
 "metadata": {
  "hide_input": false,
  "kernelspec": {
   "display_name": "Python 3 (ipykernel)",
   "language": "python",
   "name": "python3"
  },
  "language_info": {
   "codemirror_mode": {
    "name": "ipython",
    "version": 3
   },
   "file_extension": ".py",
   "mimetype": "text/x-python",
   "name": "python",
   "nbconvert_exporter": "python",
   "pygments_lexer": "ipython3",
   "version": "3.9.7"
  },
  "toc": {
   "base_numbering": 1,
   "nav_menu": {},
   "number_sections": true,
   "sideBar": true,
   "skip_h1_title": false,
   "title_cell": "Table of Contents",
   "title_sidebar": "Contents",
   "toc_cell": false,
   "toc_position": {},
   "toc_section_display": true,
   "toc_window_display": false
  },
  "varInspector": {
   "cols": {
    "lenName": 16,
    "lenType": 16,
    "lenVar": 40
   },
   "kernels_config": {
    "python": {
     "delete_cmd_postfix": "",
     "delete_cmd_prefix": "del ",
     "library": "var_list.py",
     "varRefreshCmd": "print(var_dic_list())"
    },
    "r": {
     "delete_cmd_postfix": ") ",
     "delete_cmd_prefix": "rm(",
     "library": "var_list.r",
     "varRefreshCmd": "cat(var_dic_list()) "
    }
   },
   "types_to_exclude": [
    "module",
    "function",
    "builtin_function_or_method",
    "instance",
    "_Feature"
   ],
   "window_display": false
  }
 },
 "nbformat": 4,
 "nbformat_minor": 5
}
