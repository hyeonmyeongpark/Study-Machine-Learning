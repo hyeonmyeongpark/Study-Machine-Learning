{
 "cells": [
  {
   "cell_type": "code",
   "execution_count": 1,
   "id": "bbe64a6d",
   "metadata": {
    "ExecuteTime": {
     "end_time": "2022-11-03T08:11:07.483985Z",
     "start_time": "2022-11-03T08:11:05.890344Z"
    }
   },
   "outputs": [],
   "source": [
    "import numpy as np\n",
    "import pandas as pd\n",
    "import matplotlib.pyplot as plt"
   ]
  },
  {
   "cell_type": "code",
   "execution_count": 2,
   "id": "820d6f93",
   "metadata": {
    "ExecuteTime": {
     "end_time": "2022-11-03T08:11:30.206522Z",
     "start_time": "2022-11-03T08:11:30.025013Z"
    }
   },
   "outputs": [],
   "source": [
    "wine = pd.read_csv('https://raw.githubusercontent.com/rickiepark/hg-mldl/master/wine.csv')"
   ]
  },
  {
   "cell_type": "code",
   "execution_count": 3,
   "id": "cdef84d2",
   "metadata": {
    "ExecuteTime": {
     "end_time": "2022-11-03T08:11:47.916157Z",
     "start_time": "2022-11-03T08:11:47.908136Z"
    }
   },
   "outputs": [],
   "source": [
    "wine_input = wine[['alcohol', 'sugar', 'pH']].to_numpy()\n",
    "wine_target = wine['class'].to_numpy()"
   ]
  },
  {
   "cell_type": "markdown",
   "id": "51060a8c",
   "metadata": {},
   "source": [
    "## 훈련세트와 테스트세트 분리"
   ]
  },
  {
   "cell_type": "code",
   "execution_count": 4,
   "id": "7e7405b5",
   "metadata": {
    "ExecuteTime": {
     "end_time": "2022-11-03T08:12:05.356191Z",
     "start_time": "2022-11-03T08:12:04.916250Z"
    }
   },
   "outputs": [],
   "source": [
    "from sklearn.model_selection import train_test_split\n",
    "\n",
    "train_input, test_input, train_target, test_target = train_test_split(\n",
    "    wine_input, wine_target, test_size = 0.2, random_state = 42)"
   ]
  },
  {
   "cell_type": "markdown",
   "id": "f045f9db",
   "metadata": {},
   "source": [
    "## 훈련세트에서 검증세트 분리"
   ]
  },
  {
   "cell_type": "code",
   "execution_count": 5,
   "id": "1625e0de",
   "metadata": {
    "ExecuteTime": {
     "end_time": "2022-11-03T08:14:29.579789Z",
     "start_time": "2022-11-03T08:14:29.573805Z"
    }
   },
   "outputs": [],
   "source": [
    "sub_input, val_input, sub_target, val_target = train_test_split(\n",
    "    train_input, train_target, test_size = 0.2, random_state = 42)"
   ]
  },
  {
   "cell_type": "code",
   "execution_count": 6,
   "id": "143914e0",
   "metadata": {
    "ExecuteTime": {
     "end_time": "2022-11-03T08:14:53.559608Z",
     "start_time": "2022-11-03T08:14:53.536555Z"
    }
   },
   "outputs": [
    {
     "data": {
      "text/plain": [
       "((4157, 3), (1040, 3))"
      ]
     },
     "execution_count": 6,
     "metadata": {},
     "output_type": "execute_result"
    }
   ],
   "source": [
    "sub_input.shape, val_input.shape"
   ]
  },
  {
   "cell_type": "markdown",
   "id": "bfbc107d",
   "metadata": {},
   "source": [
    "## 모델 구축(DecisionTreeClassifier)"
   ]
  },
  {
   "cell_type": "code",
   "execution_count": 7,
   "id": "667bf9b4",
   "metadata": {
    "ExecuteTime": {
     "end_time": "2022-11-03T08:18:10.417592Z",
     "start_time": "2022-11-03T08:18:10.268631Z"
    }
   },
   "outputs": [
    {
     "name": "stdout",
     "output_type": "stream",
     "text": [
      "0.9971133028626413\n",
      "0.864423076923077\n"
     ]
    }
   ],
   "source": [
    "from sklearn.tree import DecisionTreeClassifier\n",
    "dt = DecisionTreeClassifier(random_state=42)\n",
    "dt.fit(sub_input, sub_target)\n",
    "\n",
    "print(dt.score(sub_input, sub_target))\n",
    "print(dt.score(val_input, val_target))"
   ]
  },
  {
   "cell_type": "markdown",
   "id": "622af99c",
   "metadata": {},
   "source": [
    "## 교차 검증(k-fold cross validation)"
   ]
  },
  {
   "cell_type": "code",
   "execution_count": 9,
   "id": "61a46ea2",
   "metadata": {
    "ExecuteTime": {
     "end_time": "2022-11-03T08:24:41.632250Z",
     "start_time": "2022-11-03T08:24:41.583068Z"
    }
   },
   "outputs": [
    {
     "data": {
      "text/plain": [
       "{'fit_time': array([0.00566721, 0.00426698, 0.00583196, 0.00635242, 0.00499344]),\n",
       " 'score_time': array([0.        , 0.00116706, 0.00071311, 0.00100923, 0.00097919]),\n",
       " 'test_score': array([0.86923077, 0.84615385, 0.87680462, 0.84889317, 0.83541867])}"
      ]
     },
     "execution_count": 9,
     "metadata": {},
     "output_type": "execute_result"
    }
   ],
   "source": [
    "from sklearn.model_selection import cross_validate\n",
    "\n",
    "# 평가할 모델 객체를 매개변수로 전달한다.(검정세트를 떼어내지 않고 훈련세트 전체를 전달해야 한다.)\n",
    "scores = cross_validate(dt, train_input, train_target)\n",
    "scores"
   ]
  },
  {
   "cell_type": "code",
   "execution_count": 10,
   "id": "8b1e712d",
   "metadata": {
    "ExecuteTime": {
     "end_time": "2022-11-03T08:27:10.450263Z",
     "start_time": "2022-11-03T08:27:10.437303Z"
    }
   },
   "outputs": [
    {
     "data": {
      "text/plain": [
       "0.855300214703487"
      ]
     },
     "execution_count": 10,
     "metadata": {},
     "output_type": "execute_result"
    }
   ],
   "source": [
    "np.mean(scores['test_score'])"
   ]
  },
  {
   "cell_type": "code",
   "execution_count": 11,
   "id": "f0089b8a",
   "metadata": {
    "ExecuteTime": {
     "end_time": "2022-11-03T08:37:35.047843Z",
     "start_time": "2022-11-03T08:37:35.001860Z"
    }
   },
   "outputs": [
    {
     "data": {
      "text/plain": [
       "0.855300214703487"
      ]
     },
     "execution_count": 11,
     "metadata": {},
     "output_type": "execute_result"
    }
   ],
   "source": [
    "from sklearn.model_selection import StratifiedKFold\n",
    "scores = cross_validate(dt, train_input, train_target, cv=StratifiedKFold())\n",
    "np.mean(scores['test_score'])"
   ]
  },
  {
   "cell_type": "code",
   "execution_count": 13,
   "id": "8d03beeb",
   "metadata": {
    "ExecuteTime": {
     "end_time": "2022-11-03T08:38:18.349816Z",
     "start_time": "2022-11-03T08:38:18.254972Z"
    }
   },
   "outputs": [
    {
     "data": {
      "text/plain": [
       "0.8574181117533719"
      ]
     },
     "execution_count": 13,
     "metadata": {},
     "output_type": "execute_result"
    }
   ],
   "source": [
    "# 만약 k-fold가 10이라면(10-겹 교차검증)\n",
    "splitter = StratifiedKFold(n_splits=10, shuffle=True, random_state=42)\n",
    "scores = cross_validate(dt, train_input, train_target, cv=splitter)\n",
    "np.mean(scores['test_score'])"
   ]
  },
  {
   "cell_type": "code",
   "execution_count": null,
   "id": "c6e65e5e",
   "metadata": {},
   "outputs": [],
   "source": []
  }
 ],
 "metadata": {
  "hide_input": false,
  "kernelspec": {
   "display_name": "Python 3 (ipykernel)",
   "language": "python",
   "name": "python3"
  },
  "language_info": {
   "codemirror_mode": {
    "name": "ipython",
    "version": 3
   },
   "file_extension": ".py",
   "mimetype": "text/x-python",
   "name": "python",
   "nbconvert_exporter": "python",
   "pygments_lexer": "ipython3",
   "version": "3.9.7"
  },
  "toc": {
   "base_numbering": 1,
   "nav_menu": {},
   "number_sections": true,
   "sideBar": true,
   "skip_h1_title": false,
   "title_cell": "Table of Contents",
   "title_sidebar": "Contents",
   "toc_cell": false,
   "toc_position": {},
   "toc_section_display": true,
   "toc_window_display": false
  },
  "varInspector": {
   "cols": {
    "lenName": 16,
    "lenType": 16,
    "lenVar": 40
   },
   "kernels_config": {
    "python": {
     "delete_cmd_postfix": "",
     "delete_cmd_prefix": "del ",
     "library": "var_list.py",
     "varRefreshCmd": "print(var_dic_list())"
    },
    "r": {
     "delete_cmd_postfix": ") ",
     "delete_cmd_prefix": "rm(",
     "library": "var_list.r",
     "varRefreshCmd": "cat(var_dic_list()) "
    }
   },
   "types_to_exclude": [
    "module",
    "function",
    "builtin_function_or_method",
    "instance",
    "_Feature"
   ],
   "window_display": false
  }
 },
 "nbformat": 4,
 "nbformat_minor": 5
}
